{
  "nbformat": 4,
  "nbformat_minor": 0,
  "metadata": {
    "colab": {
      "provenance": [],
      "include_colab_link": true
    },
    "kernelspec": {
      "name": "python3",
      "display_name": "Python 3"
    },
    "language_info": {
      "name": "python"
    },
    "accelerator": "GPU",
    "gpuClass": "standard"
  },
  "cells": [
    {
      "cell_type": "markdown",
      "metadata": {
        "id": "view-in-github",
        "colab_type": "text"
      },
      "source": [
        "<a href=\"https://colab.research.google.com/github/Hadavand-s-Minions/rsna-cervical-spine/blob/main/assignments/2_Exploratory_DA/Train_Segmentations.ipynb\" target=\"_parent\"><img src=\"https://colab.research.google.com/assets/colab-badge.svg\" alt=\"Open In Colab\"/></a>"
      ]
    },
    {
      "cell_type": "markdown",
      "source": [
        "## Import Necessary Libraries And Modules\n",
        "\n",
        "These are the libraries we will need for preprocessing image data, splitting the data, training models, computing accuracy and improving model performance"
      ],
      "metadata": {
        "id": "2QHHIfISgmPr"
      }
    },
    {
      "cell_type": "code",
      "source": [
        "import os\n",
        "import numpy as np\n",
        "import pandas as pd\n",
        "import matplotlib.image as mpimg\n",
        "import matplotlib.pyplot as plt\n",
        "import matplotlib as mpl\n",
        "import seaborn as sns\n",
        "from PIL import Image\n",
        "import nibabel as nib\n",
        "from nibabel import Nifti1Image\n",
        "\n",
        "from sklearn.preprocessing import StandardScaler\n",
        "from sklearn.pipeline import Pipeline, make_pipeline\n",
        "\n",
        "# from sklearn import decomposition \n",
        "# from sklearn.discriminant_analysis import LinearDiscriminantAnalysis\n",
        "# from sklearn.svm import LinearSVC \n",
        "# from sklearn.linear_model import LogisticRegression, SGDClassifier\n",
        "\n",
        "from sklearn.metrics import accuracy_score, classification_report, roc_auc_score, confusion_matrix, ConfusionMatrixDisplay\n",
        "from sklearn.model_selection import train_test_split, ParameterGrid"
      ],
      "metadata": {
        "id": "K6wbNVinjuQN"
      },
      "execution_count": null,
      "outputs": []
    },
    {
      "cell_type": "markdown",
      "source": [
        "### Mount Files from Google Drive to Read Image and Variable data for analysis"
      ],
      "metadata": {
        "id": "ZELI9S-Ng-az"
      }
    },
    {
      "cell_type": "code",
      "source": [
        "from google.colab import drive\n",
        "drive.mount('/content/gdrive')"
      ],
      "metadata": {
        "colab": {
          "base_uri": "https://localhost:8080/"
        },
        "id": "2P5AqvN5g9s8",
        "outputId": "b5f1d183-7901-4990-bf99-5efc1b89e8b0"
      },
      "execution_count": null,
      "outputs": [
        {
          "output_type": "stream",
          "name": "stdout",
          "text": [
            "Mounted at /content/gdrive\n"
          ]
        }
      ]
    },
    {
      "cell_type": "markdown",
      "source": [
        "## Load the .nii files from segmentations \n",
        "\n",
        "We load the .nii files from the segmentations folder below. The .nii files are masked files that contain labels for the vertebrae. As will be seen in the following code cells, each image file is a 3-D containing all the vertebrae and labels 0 - 19. The mask of each slice of the image tells us which vertebrae we are currently observing. For example, we can have a mask [[0,4, 6, 7],[20000, 4999, 799, 500]]. What this means is that the vertebrae we are observing is C4 because it has the second highest count. In all cases, 0 will always have the highest count because it represents areas without images and for the segmentations, there is more area without an image than areas with images.\n",
        "\n",
        "There are only 87 segmentation images. To train the semantic segmentation model, we will need the corresponding jpeg images so that we can identify the true mask vs the predicted mask. The goal of training a semantic segmentation model is so that the model can easily identify what a C1 - C7 vertebrae looks like since the segmentated images are labeled."
      ],
      "metadata": {
        "id": "RxVhUZnft1-r"
      }
    },
    {
      "cell_type": "code",
      "source": [
        "base_folder: str = \"/content/gdrive/MyDrive/Tutorial_Session/hadavands_minions\"\n",
        "segmentations_folder: str = base_folder + \"/segmentations/\"\n",
        "training_folder: str = base_folder + \"/train_images/\"\n",
        "\n",
        "\n",
        "segmentations_df = pd.DataFrame({\n",
        "    \"segmentations\": os.listdir(segmentations_folder)\n",
        "})\n",
        "\n",
        "segmentations_df[\"StudyInstanceUID\"] = segmentations_df[\"segmentations\"].str.strip(\".nii\")\n",
        "\n",
        "segmentations_df = segmentations_df.set_index(\"StudyInstanceUID\")\n",
        "\n",
        "training_df = pd.DataFrame({\n",
        "    \"training\": os.listdir(training_folder)\n",
        "})\n",
        "\n",
        "training_df[\"StudyInstanceUID\"] = training_df[\"training\"]\n",
        "\n",
        "training_df[\"training\"] = training_folder + training_df[\"training\"]\n",
        "\n",
        "\n",
        "training_df = training_df.set_index(\"StudyInstanceUID\")\n",
        "\n",
        "train_df = pd.read_csv(base_folder+\"/train.csv\")\n",
        "train_df = train_df.set_index(\"StudyInstanceUID\")\n",
        "\n",
        "df = pd.concat([segmentations_df, training_df, train_df], axis=1)\n",
        "\n",
        "df"
      ],
      "metadata": {
        "colab": {
          "base_uri": "https://localhost:8080/",
          "height": 450
        },
        "id": "7yZ-1vYFQOhW",
        "outputId": "9a83a4ef-d810-4bbb-81ad-0b5693a8622d"
      },
      "execution_count": null,
      "outputs": [
        {
          "output_type": "execute_result",
          "data": {
            "text/plain": [
              "                                           segmentations  \\\n",
              "StudyInstanceUID                                           \n",
              "1.2.826.0.1.3680043.10633  1.2.826.0.1.3680043.10633.nii   \n",
              "1.2.826.0.1.3680043.10921  1.2.826.0.1.3680043.10921.nii   \n",
              "1.2.826.0.1.3680043.11827  1.2.826.0.1.3680043.11827.nii   \n",
              "1.2.826.0.1.3680043.11988  1.2.826.0.1.3680043.11988.nii   \n",
              "1.2.826.0.1.3680043.12281  1.2.826.0.1.3680043.12281.nii   \n",
              "...                                                  ...   \n",
              "1.2.826.0.1.3680043.23422                            NaN   \n",
              "1.2.826.0.1.3680043.30831                            NaN   \n",
              "1.2.826.0.1.3680043.501                              NaN   \n",
              "1.2.826.0.1.3680043.30238                            NaN   \n",
              "1.2.826.0.1.3680043.6000                             NaN   \n",
              "\n",
              "                                                                    training  \\\n",
              "StudyInstanceUID                                                               \n",
              "1.2.826.0.1.3680043.10633  /content/gdrive/MyDrive/Tutorial_Session/hadav...   \n",
              "1.2.826.0.1.3680043.10921  /content/gdrive/MyDrive/Tutorial_Session/hadav...   \n",
              "1.2.826.0.1.3680043.11827  /content/gdrive/MyDrive/Tutorial_Session/hadav...   \n",
              "1.2.826.0.1.3680043.11988  /content/gdrive/MyDrive/Tutorial_Session/hadav...   \n",
              "1.2.826.0.1.3680043.12281  /content/gdrive/MyDrive/Tutorial_Session/hadav...   \n",
              "...                                                                      ...   \n",
              "1.2.826.0.1.3680043.23422  /content/gdrive/MyDrive/Tutorial_Session/hadav...   \n",
              "1.2.826.0.1.3680043.30831  /content/gdrive/MyDrive/Tutorial_Session/hadav...   \n",
              "1.2.826.0.1.3680043.501    /content/gdrive/MyDrive/Tutorial_Session/hadav...   \n",
              "1.2.826.0.1.3680043.30238  /content/gdrive/MyDrive/Tutorial_Session/hadav...   \n",
              "1.2.826.0.1.3680043.6000   /content/gdrive/MyDrive/Tutorial_Session/hadav...   \n",
              "\n",
              "                           patient_overall   C1   C2   C3   C4   C5   C6   C7  \n",
              "StudyInstanceUID                                                               \n",
              "1.2.826.0.1.3680043.10633              0.0  0.0  0.0  0.0  0.0  0.0  0.0  0.0  \n",
              "1.2.826.0.1.3680043.10921              0.0  0.0  0.0  0.0  0.0  0.0  0.0  0.0  \n",
              "1.2.826.0.1.3680043.11827              1.0  0.0  1.0  0.0  0.0  0.0  0.0  0.0  \n",
              "1.2.826.0.1.3680043.11988              1.0  0.0  0.0  0.0  0.0  1.0  1.0  0.0  \n",
              "1.2.826.0.1.3680043.12281              0.0  0.0  0.0  0.0  0.0  0.0  0.0  0.0  \n",
              "...                                    ...  ...  ...  ...  ...  ...  ...  ...  \n",
              "1.2.826.0.1.3680043.23422              0.0  0.0  0.0  0.0  0.0  0.0  0.0  0.0  \n",
              "1.2.826.0.1.3680043.30831              0.0  0.0  0.0  0.0  0.0  0.0  0.0  0.0  \n",
              "1.2.826.0.1.3680043.501                1.0  0.0  0.0  0.0  0.0  0.0  0.0  1.0  \n",
              "1.2.826.0.1.3680043.30238              1.0  0.0  0.0  0.0  0.0  1.0  1.0  0.0  \n",
              "1.2.826.0.1.3680043.6000               1.0  0.0  0.0  0.0  0.0  0.0  0.0  1.0  \n",
              "\n",
              "[2032 rows x 10 columns]"
            ],
            "text/html": [
              "\n",
              "  <div id=\"df-ef6e9aab-881f-47e0-867e-3f3644f75e26\">\n",
              "    <div class=\"colab-df-container\">\n",
              "      <div>\n",
              "<style scoped>\n",
              "    .dataframe tbody tr th:only-of-type {\n",
              "        vertical-align: middle;\n",
              "    }\n",
              "\n",
              "    .dataframe tbody tr th {\n",
              "        vertical-align: top;\n",
              "    }\n",
              "\n",
              "    .dataframe thead th {\n",
              "        text-align: right;\n",
              "    }\n",
              "</style>\n",
              "<table border=\"1\" class=\"dataframe\">\n",
              "  <thead>\n",
              "    <tr style=\"text-align: right;\">\n",
              "      <th></th>\n",
              "      <th>segmentations</th>\n",
              "      <th>training</th>\n",
              "      <th>patient_overall</th>\n",
              "      <th>C1</th>\n",
              "      <th>C2</th>\n",
              "      <th>C3</th>\n",
              "      <th>C4</th>\n",
              "      <th>C5</th>\n",
              "      <th>C6</th>\n",
              "      <th>C7</th>\n",
              "    </tr>\n",
              "    <tr>\n",
              "      <th>StudyInstanceUID</th>\n",
              "      <th></th>\n",
              "      <th></th>\n",
              "      <th></th>\n",
              "      <th></th>\n",
              "      <th></th>\n",
              "      <th></th>\n",
              "      <th></th>\n",
              "      <th></th>\n",
              "      <th></th>\n",
              "      <th></th>\n",
              "    </tr>\n",
              "  </thead>\n",
              "  <tbody>\n",
              "    <tr>\n",
              "      <th>1.2.826.0.1.3680043.10633</th>\n",
              "      <td>1.2.826.0.1.3680043.10633.nii</td>\n",
              "      <td>/content/gdrive/MyDrive/Tutorial_Session/hadav...</td>\n",
              "      <td>0.0</td>\n",
              "      <td>0.0</td>\n",
              "      <td>0.0</td>\n",
              "      <td>0.0</td>\n",
              "      <td>0.0</td>\n",
              "      <td>0.0</td>\n",
              "      <td>0.0</td>\n",
              "      <td>0.0</td>\n",
              "    </tr>\n",
              "    <tr>\n",
              "      <th>1.2.826.0.1.3680043.10921</th>\n",
              "      <td>1.2.826.0.1.3680043.10921.nii</td>\n",
              "      <td>/content/gdrive/MyDrive/Tutorial_Session/hadav...</td>\n",
              "      <td>0.0</td>\n",
              "      <td>0.0</td>\n",
              "      <td>0.0</td>\n",
              "      <td>0.0</td>\n",
              "      <td>0.0</td>\n",
              "      <td>0.0</td>\n",
              "      <td>0.0</td>\n",
              "      <td>0.0</td>\n",
              "    </tr>\n",
              "    <tr>\n",
              "      <th>1.2.826.0.1.3680043.11827</th>\n",
              "      <td>1.2.826.0.1.3680043.11827.nii</td>\n",
              "      <td>/content/gdrive/MyDrive/Tutorial_Session/hadav...</td>\n",
              "      <td>1.0</td>\n",
              "      <td>0.0</td>\n",
              "      <td>1.0</td>\n",
              "      <td>0.0</td>\n",
              "      <td>0.0</td>\n",
              "      <td>0.0</td>\n",
              "      <td>0.0</td>\n",
              "      <td>0.0</td>\n",
              "    </tr>\n",
              "    <tr>\n",
              "      <th>1.2.826.0.1.3680043.11988</th>\n",
              "      <td>1.2.826.0.1.3680043.11988.nii</td>\n",
              "      <td>/content/gdrive/MyDrive/Tutorial_Session/hadav...</td>\n",
              "      <td>1.0</td>\n",
              "      <td>0.0</td>\n",
              "      <td>0.0</td>\n",
              "      <td>0.0</td>\n",
              "      <td>0.0</td>\n",
              "      <td>1.0</td>\n",
              "      <td>1.0</td>\n",
              "      <td>0.0</td>\n",
              "    </tr>\n",
              "    <tr>\n",
              "      <th>1.2.826.0.1.3680043.12281</th>\n",
              "      <td>1.2.826.0.1.3680043.12281.nii</td>\n",
              "      <td>/content/gdrive/MyDrive/Tutorial_Session/hadav...</td>\n",
              "      <td>0.0</td>\n",
              "      <td>0.0</td>\n",
              "      <td>0.0</td>\n",
              "      <td>0.0</td>\n",
              "      <td>0.0</td>\n",
              "      <td>0.0</td>\n",
              "      <td>0.0</td>\n",
              "      <td>0.0</td>\n",
              "    </tr>\n",
              "    <tr>\n",
              "      <th>...</th>\n",
              "      <td>...</td>\n",
              "      <td>...</td>\n",
              "      <td>...</td>\n",
              "      <td>...</td>\n",
              "      <td>...</td>\n",
              "      <td>...</td>\n",
              "      <td>...</td>\n",
              "      <td>...</td>\n",
              "      <td>...</td>\n",
              "      <td>...</td>\n",
              "    </tr>\n",
              "    <tr>\n",
              "      <th>1.2.826.0.1.3680043.23422</th>\n",
              "      <td>NaN</td>\n",
              "      <td>/content/gdrive/MyDrive/Tutorial_Session/hadav...</td>\n",
              "      <td>0.0</td>\n",
              "      <td>0.0</td>\n",
              "      <td>0.0</td>\n",
              "      <td>0.0</td>\n",
              "      <td>0.0</td>\n",
              "      <td>0.0</td>\n",
              "      <td>0.0</td>\n",
              "      <td>0.0</td>\n",
              "    </tr>\n",
              "    <tr>\n",
              "      <th>1.2.826.0.1.3680043.30831</th>\n",
              "      <td>NaN</td>\n",
              "      <td>/content/gdrive/MyDrive/Tutorial_Session/hadav...</td>\n",
              "      <td>0.0</td>\n",
              "      <td>0.0</td>\n",
              "      <td>0.0</td>\n",
              "      <td>0.0</td>\n",
              "      <td>0.0</td>\n",
              "      <td>0.0</td>\n",
              "      <td>0.0</td>\n",
              "      <td>0.0</td>\n",
              "    </tr>\n",
              "    <tr>\n",
              "      <th>1.2.826.0.1.3680043.501</th>\n",
              "      <td>NaN</td>\n",
              "      <td>/content/gdrive/MyDrive/Tutorial_Session/hadav...</td>\n",
              "      <td>1.0</td>\n",
              "      <td>0.0</td>\n",
              "      <td>0.0</td>\n",
              "      <td>0.0</td>\n",
              "      <td>0.0</td>\n",
              "      <td>0.0</td>\n",
              "      <td>0.0</td>\n",
              "      <td>1.0</td>\n",
              "    </tr>\n",
              "    <tr>\n",
              "      <th>1.2.826.0.1.3680043.30238</th>\n",
              "      <td>NaN</td>\n",
              "      <td>/content/gdrive/MyDrive/Tutorial_Session/hadav...</td>\n",
              "      <td>1.0</td>\n",
              "      <td>0.0</td>\n",
              "      <td>0.0</td>\n",
              "      <td>0.0</td>\n",
              "      <td>0.0</td>\n",
              "      <td>1.0</td>\n",
              "      <td>1.0</td>\n",
              "      <td>0.0</td>\n",
              "    </tr>\n",
              "    <tr>\n",
              "      <th>1.2.826.0.1.3680043.6000</th>\n",
              "      <td>NaN</td>\n",
              "      <td>/content/gdrive/MyDrive/Tutorial_Session/hadav...</td>\n",
              "      <td>1.0</td>\n",
              "      <td>0.0</td>\n",
              "      <td>0.0</td>\n",
              "      <td>0.0</td>\n",
              "      <td>0.0</td>\n",
              "      <td>0.0</td>\n",
              "      <td>0.0</td>\n",
              "      <td>1.0</td>\n",
              "    </tr>\n",
              "  </tbody>\n",
              "</table>\n",
              "<p>2032 rows × 10 columns</p>\n",
              "</div>\n",
              "      <button class=\"colab-df-convert\" onclick=\"convertToInteractive('df-ef6e9aab-881f-47e0-867e-3f3644f75e26')\"\n",
              "              title=\"Convert this dataframe to an interactive table.\"\n",
              "              style=\"display:none;\">\n",
              "        \n",
              "  <svg xmlns=\"http://www.w3.org/2000/svg\" height=\"24px\"viewBox=\"0 0 24 24\"\n",
              "       width=\"24px\">\n",
              "    <path d=\"M0 0h24v24H0V0z\" fill=\"none\"/>\n",
              "    <path d=\"M18.56 5.44l.94 2.06.94-2.06 2.06-.94-2.06-.94-.94-2.06-.94 2.06-2.06.94zm-11 1L8.5 8.5l.94-2.06 2.06-.94-2.06-.94L8.5 2.5l-.94 2.06-2.06.94zm10 10l.94 2.06.94-2.06 2.06-.94-2.06-.94-.94-2.06-.94 2.06-2.06.94z\"/><path d=\"M17.41 7.96l-1.37-1.37c-.4-.4-.92-.59-1.43-.59-.52 0-1.04.2-1.43.59L10.3 9.45l-7.72 7.72c-.78.78-.78 2.05 0 2.83L4 21.41c.39.39.9.59 1.41.59.51 0 1.02-.2 1.41-.59l7.78-7.78 2.81-2.81c.8-.78.8-2.07 0-2.86zM5.41 20L4 18.59l7.72-7.72 1.47 1.35L5.41 20z\"/>\n",
              "  </svg>\n",
              "      </button>\n",
              "      \n",
              "  <style>\n",
              "    .colab-df-container {\n",
              "      display:flex;\n",
              "      flex-wrap:wrap;\n",
              "      gap: 12px;\n",
              "    }\n",
              "\n",
              "    .colab-df-convert {\n",
              "      background-color: #E8F0FE;\n",
              "      border: none;\n",
              "      border-radius: 50%;\n",
              "      cursor: pointer;\n",
              "      display: none;\n",
              "      fill: #1967D2;\n",
              "      height: 32px;\n",
              "      padding: 0 0 0 0;\n",
              "      width: 32px;\n",
              "    }\n",
              "\n",
              "    .colab-df-convert:hover {\n",
              "      background-color: #E2EBFA;\n",
              "      box-shadow: 0px 1px 2px rgba(60, 64, 67, 0.3), 0px 1px 3px 1px rgba(60, 64, 67, 0.15);\n",
              "      fill: #174EA6;\n",
              "    }\n",
              "\n",
              "    [theme=dark] .colab-df-convert {\n",
              "      background-color: #3B4455;\n",
              "      fill: #D2E3FC;\n",
              "    }\n",
              "\n",
              "    [theme=dark] .colab-df-convert:hover {\n",
              "      background-color: #434B5C;\n",
              "      box-shadow: 0px 1px 3px 1px rgba(0, 0, 0, 0.15);\n",
              "      filter: drop-shadow(0px 1px 2px rgba(0, 0, 0, 0.3));\n",
              "      fill: #FFFFFF;\n",
              "    }\n",
              "  </style>\n",
              "\n",
              "      <script>\n",
              "        const buttonEl =\n",
              "          document.querySelector('#df-ef6e9aab-881f-47e0-867e-3f3644f75e26 button.colab-df-convert');\n",
              "        buttonEl.style.display =\n",
              "          google.colab.kernel.accessAllowed ? 'block' : 'none';\n",
              "\n",
              "        async function convertToInteractive(key) {\n",
              "          const element = document.querySelector('#df-ef6e9aab-881f-47e0-867e-3f3644f75e26');\n",
              "          const dataTable =\n",
              "            await google.colab.kernel.invokeFunction('convertToInteractive',\n",
              "                                                     [key], {});\n",
              "          if (!dataTable) return;\n",
              "\n",
              "          const docLinkHtml = 'Like what you see? Visit the ' +\n",
              "            '<a target=\"_blank\" href=https://colab.research.google.com/notebooks/data_table.ipynb>data table notebook</a>'\n",
              "            + ' to learn more about interactive tables.';\n",
              "          element.innerHTML = '';\n",
              "          dataTable['output_type'] = 'display_data';\n",
              "          await google.colab.output.renderOutput(dataTable, element);\n",
              "          const docLink = document.createElement('div');\n",
              "          docLink.innerHTML = docLinkHtml;\n",
              "          element.appendChild(docLink);\n",
              "        }\n",
              "      </script>\n",
              "    </div>\n",
              "  </div>\n",
              "  "
            ]
          },
          "metadata": {},
          "execution_count": 23
        }
      ]
    },
    {
      "cell_type": "markdown",
      "source": [
        "### Create new df with only corresponding .nii files\n",
        "\n",
        "Since we can only train the model with the available .nii and corresponding jpeg files, we create a new dataframe by dropping all rows which do not have .nii files."
      ],
      "metadata": {
        "id": "WHTLI9oX_xJf"
      }
    },
    {
      "cell_type": "code",
      "source": [
        "seg_df = df.dropna()\n",
        "seg_df"
      ],
      "metadata": {
        "colab": {
          "base_uri": "https://localhost:8080/",
          "height": 450
        },
        "id": "eaReBGLeAEmD",
        "outputId": "abfd3d94-fb42-4073-c41c-370ec30c73ca"
      },
      "execution_count": null,
      "outputs": [
        {
          "output_type": "execute_result",
          "data": {
            "text/plain": [
              "                                           segmentations  \\\n",
              "StudyInstanceUID                                           \n",
              "1.2.826.0.1.3680043.10633  1.2.826.0.1.3680043.10633.nii   \n",
              "1.2.826.0.1.3680043.10921  1.2.826.0.1.3680043.10921.nii   \n",
              "1.2.826.0.1.3680043.11827  1.2.826.0.1.3680043.11827.nii   \n",
              "1.2.826.0.1.3680043.11988  1.2.826.0.1.3680043.11988.nii   \n",
              "1.2.826.0.1.3680043.12281  1.2.826.0.1.3680043.12281.nii   \n",
              "...                                                  ...   \n",
              "1.2.826.0.1.3680043.8330    1.2.826.0.1.3680043.8330.nii   \n",
              "1.2.826.0.1.3680043.8574    1.2.826.0.1.3680043.8574.nii   \n",
              "1.2.826.0.1.3680043.8884    1.2.826.0.1.3680043.8884.nii   \n",
              "1.2.826.0.1.3680043.8744    1.2.826.0.1.3680043.8744.nii   \n",
              "1.2.826.0.1.3680043.9926    1.2.826.0.1.3680043.9926.nii   \n",
              "\n",
              "                                                                    training  \\\n",
              "StudyInstanceUID                                                               \n",
              "1.2.826.0.1.3680043.10633  /content/gdrive/MyDrive/Tutorial_Session/hadav...   \n",
              "1.2.826.0.1.3680043.10921  /content/gdrive/MyDrive/Tutorial_Session/hadav...   \n",
              "1.2.826.0.1.3680043.11827  /content/gdrive/MyDrive/Tutorial_Session/hadav...   \n",
              "1.2.826.0.1.3680043.11988  /content/gdrive/MyDrive/Tutorial_Session/hadav...   \n",
              "1.2.826.0.1.3680043.12281  /content/gdrive/MyDrive/Tutorial_Session/hadav...   \n",
              "...                                                                      ...   \n",
              "1.2.826.0.1.3680043.8330   /content/gdrive/MyDrive/Tutorial_Session/hadav...   \n",
              "1.2.826.0.1.3680043.8574   /content/gdrive/MyDrive/Tutorial_Session/hadav...   \n",
              "1.2.826.0.1.3680043.8884   /content/gdrive/MyDrive/Tutorial_Session/hadav...   \n",
              "1.2.826.0.1.3680043.8744   /content/gdrive/MyDrive/Tutorial_Session/hadav...   \n",
              "1.2.826.0.1.3680043.9926   /content/gdrive/MyDrive/Tutorial_Session/hadav...   \n",
              "\n",
              "                           patient_overall   C1   C2   C3   C4   C5   C6   C7  \n",
              "StudyInstanceUID                                                               \n",
              "1.2.826.0.1.3680043.10633              0.0  0.0  0.0  0.0  0.0  0.0  0.0  0.0  \n",
              "1.2.826.0.1.3680043.10921              0.0  0.0  0.0  0.0  0.0  0.0  0.0  0.0  \n",
              "1.2.826.0.1.3680043.11827              1.0  0.0  1.0  0.0  0.0  0.0  0.0  0.0  \n",
              "1.2.826.0.1.3680043.11988              1.0  0.0  0.0  0.0  0.0  1.0  1.0  0.0  \n",
              "1.2.826.0.1.3680043.12281              0.0  0.0  0.0  0.0  0.0  0.0  0.0  0.0  \n",
              "...                                    ...  ...  ...  ...  ...  ...  ...  ...  \n",
              "1.2.826.0.1.3680043.8330               1.0  0.0  0.0  0.0  0.0  1.0  1.0  1.0  \n",
              "1.2.826.0.1.3680043.8574               0.0  0.0  0.0  0.0  0.0  0.0  0.0  0.0  \n",
              "1.2.826.0.1.3680043.8884               0.0  0.0  0.0  0.0  0.0  0.0  0.0  0.0  \n",
              "1.2.826.0.1.3680043.8744               0.0  0.0  0.0  0.0  0.0  0.0  0.0  0.0  \n",
              "1.2.826.0.1.3680043.9926               1.0  0.0  1.0  0.0  0.0  0.0  0.0  0.0  \n",
              "\n",
              "[87 rows x 10 columns]"
            ],
            "text/html": [
              "\n",
              "  <div id=\"df-422df3be-edf0-4666-8ca6-79f47f440ae2\">\n",
              "    <div class=\"colab-df-container\">\n",
              "      <div>\n",
              "<style scoped>\n",
              "    .dataframe tbody tr th:only-of-type {\n",
              "        vertical-align: middle;\n",
              "    }\n",
              "\n",
              "    .dataframe tbody tr th {\n",
              "        vertical-align: top;\n",
              "    }\n",
              "\n",
              "    .dataframe thead th {\n",
              "        text-align: right;\n",
              "    }\n",
              "</style>\n",
              "<table border=\"1\" class=\"dataframe\">\n",
              "  <thead>\n",
              "    <tr style=\"text-align: right;\">\n",
              "      <th></th>\n",
              "      <th>segmentations</th>\n",
              "      <th>training</th>\n",
              "      <th>patient_overall</th>\n",
              "      <th>C1</th>\n",
              "      <th>C2</th>\n",
              "      <th>C3</th>\n",
              "      <th>C4</th>\n",
              "      <th>C5</th>\n",
              "      <th>C6</th>\n",
              "      <th>C7</th>\n",
              "    </tr>\n",
              "    <tr>\n",
              "      <th>StudyInstanceUID</th>\n",
              "      <th></th>\n",
              "      <th></th>\n",
              "      <th></th>\n",
              "      <th></th>\n",
              "      <th></th>\n",
              "      <th></th>\n",
              "      <th></th>\n",
              "      <th></th>\n",
              "      <th></th>\n",
              "      <th></th>\n",
              "    </tr>\n",
              "  </thead>\n",
              "  <tbody>\n",
              "    <tr>\n",
              "      <th>1.2.826.0.1.3680043.10633</th>\n",
              "      <td>1.2.826.0.1.3680043.10633.nii</td>\n",
              "      <td>/content/gdrive/MyDrive/Tutorial_Session/hadav...</td>\n",
              "      <td>0.0</td>\n",
              "      <td>0.0</td>\n",
              "      <td>0.0</td>\n",
              "      <td>0.0</td>\n",
              "      <td>0.0</td>\n",
              "      <td>0.0</td>\n",
              "      <td>0.0</td>\n",
              "      <td>0.0</td>\n",
              "    </tr>\n",
              "    <tr>\n",
              "      <th>1.2.826.0.1.3680043.10921</th>\n",
              "      <td>1.2.826.0.1.3680043.10921.nii</td>\n",
              "      <td>/content/gdrive/MyDrive/Tutorial_Session/hadav...</td>\n",
              "      <td>0.0</td>\n",
              "      <td>0.0</td>\n",
              "      <td>0.0</td>\n",
              "      <td>0.0</td>\n",
              "      <td>0.0</td>\n",
              "      <td>0.0</td>\n",
              "      <td>0.0</td>\n",
              "      <td>0.0</td>\n",
              "    </tr>\n",
              "    <tr>\n",
              "      <th>1.2.826.0.1.3680043.11827</th>\n",
              "      <td>1.2.826.0.1.3680043.11827.nii</td>\n",
              "      <td>/content/gdrive/MyDrive/Tutorial_Session/hadav...</td>\n",
              "      <td>1.0</td>\n",
              "      <td>0.0</td>\n",
              "      <td>1.0</td>\n",
              "      <td>0.0</td>\n",
              "      <td>0.0</td>\n",
              "      <td>0.0</td>\n",
              "      <td>0.0</td>\n",
              "      <td>0.0</td>\n",
              "    </tr>\n",
              "    <tr>\n",
              "      <th>1.2.826.0.1.3680043.11988</th>\n",
              "      <td>1.2.826.0.1.3680043.11988.nii</td>\n",
              "      <td>/content/gdrive/MyDrive/Tutorial_Session/hadav...</td>\n",
              "      <td>1.0</td>\n",
              "      <td>0.0</td>\n",
              "      <td>0.0</td>\n",
              "      <td>0.0</td>\n",
              "      <td>0.0</td>\n",
              "      <td>1.0</td>\n",
              "      <td>1.0</td>\n",
              "      <td>0.0</td>\n",
              "    </tr>\n",
              "    <tr>\n",
              "      <th>1.2.826.0.1.3680043.12281</th>\n",
              "      <td>1.2.826.0.1.3680043.12281.nii</td>\n",
              "      <td>/content/gdrive/MyDrive/Tutorial_Session/hadav...</td>\n",
              "      <td>0.0</td>\n",
              "      <td>0.0</td>\n",
              "      <td>0.0</td>\n",
              "      <td>0.0</td>\n",
              "      <td>0.0</td>\n",
              "      <td>0.0</td>\n",
              "      <td>0.0</td>\n",
              "      <td>0.0</td>\n",
              "    </tr>\n",
              "    <tr>\n",
              "      <th>...</th>\n",
              "      <td>...</td>\n",
              "      <td>...</td>\n",
              "      <td>...</td>\n",
              "      <td>...</td>\n",
              "      <td>...</td>\n",
              "      <td>...</td>\n",
              "      <td>...</td>\n",
              "      <td>...</td>\n",
              "      <td>...</td>\n",
              "      <td>...</td>\n",
              "    </tr>\n",
              "    <tr>\n",
              "      <th>1.2.826.0.1.3680043.8330</th>\n",
              "      <td>1.2.826.0.1.3680043.8330.nii</td>\n",
              "      <td>/content/gdrive/MyDrive/Tutorial_Session/hadav...</td>\n",
              "      <td>1.0</td>\n",
              "      <td>0.0</td>\n",
              "      <td>0.0</td>\n",
              "      <td>0.0</td>\n",
              "      <td>0.0</td>\n",
              "      <td>1.0</td>\n",
              "      <td>1.0</td>\n",
              "      <td>1.0</td>\n",
              "    </tr>\n",
              "    <tr>\n",
              "      <th>1.2.826.0.1.3680043.8574</th>\n",
              "      <td>1.2.826.0.1.3680043.8574.nii</td>\n",
              "      <td>/content/gdrive/MyDrive/Tutorial_Session/hadav...</td>\n",
              "      <td>0.0</td>\n",
              "      <td>0.0</td>\n",
              "      <td>0.0</td>\n",
              "      <td>0.0</td>\n",
              "      <td>0.0</td>\n",
              "      <td>0.0</td>\n",
              "      <td>0.0</td>\n",
              "      <td>0.0</td>\n",
              "    </tr>\n",
              "    <tr>\n",
              "      <th>1.2.826.0.1.3680043.8884</th>\n",
              "      <td>1.2.826.0.1.3680043.8884.nii</td>\n",
              "      <td>/content/gdrive/MyDrive/Tutorial_Session/hadav...</td>\n",
              "      <td>0.0</td>\n",
              "      <td>0.0</td>\n",
              "      <td>0.0</td>\n",
              "      <td>0.0</td>\n",
              "      <td>0.0</td>\n",
              "      <td>0.0</td>\n",
              "      <td>0.0</td>\n",
              "      <td>0.0</td>\n",
              "    </tr>\n",
              "    <tr>\n",
              "      <th>1.2.826.0.1.3680043.8744</th>\n",
              "      <td>1.2.826.0.1.3680043.8744.nii</td>\n",
              "      <td>/content/gdrive/MyDrive/Tutorial_Session/hadav...</td>\n",
              "      <td>0.0</td>\n",
              "      <td>0.0</td>\n",
              "      <td>0.0</td>\n",
              "      <td>0.0</td>\n",
              "      <td>0.0</td>\n",
              "      <td>0.0</td>\n",
              "      <td>0.0</td>\n",
              "      <td>0.0</td>\n",
              "    </tr>\n",
              "    <tr>\n",
              "      <th>1.2.826.0.1.3680043.9926</th>\n",
              "      <td>1.2.826.0.1.3680043.9926.nii</td>\n",
              "      <td>/content/gdrive/MyDrive/Tutorial_Session/hadav...</td>\n",
              "      <td>1.0</td>\n",
              "      <td>0.0</td>\n",
              "      <td>1.0</td>\n",
              "      <td>0.0</td>\n",
              "      <td>0.0</td>\n",
              "      <td>0.0</td>\n",
              "      <td>0.0</td>\n",
              "      <td>0.0</td>\n",
              "    </tr>\n",
              "  </tbody>\n",
              "</table>\n",
              "<p>87 rows × 10 columns</p>\n",
              "</div>\n",
              "      <button class=\"colab-df-convert\" onclick=\"convertToInteractive('df-422df3be-edf0-4666-8ca6-79f47f440ae2')\"\n",
              "              title=\"Convert this dataframe to an interactive table.\"\n",
              "              style=\"display:none;\">\n",
              "        \n",
              "  <svg xmlns=\"http://www.w3.org/2000/svg\" height=\"24px\"viewBox=\"0 0 24 24\"\n",
              "       width=\"24px\">\n",
              "    <path d=\"M0 0h24v24H0V0z\" fill=\"none\"/>\n",
              "    <path d=\"M18.56 5.44l.94 2.06.94-2.06 2.06-.94-2.06-.94-.94-2.06-.94 2.06-2.06.94zm-11 1L8.5 8.5l.94-2.06 2.06-.94-2.06-.94L8.5 2.5l-.94 2.06-2.06.94zm10 10l.94 2.06.94-2.06 2.06-.94-2.06-.94-.94-2.06-.94 2.06-2.06.94z\"/><path d=\"M17.41 7.96l-1.37-1.37c-.4-.4-.92-.59-1.43-.59-.52 0-1.04.2-1.43.59L10.3 9.45l-7.72 7.72c-.78.78-.78 2.05 0 2.83L4 21.41c.39.39.9.59 1.41.59.51 0 1.02-.2 1.41-.59l7.78-7.78 2.81-2.81c.8-.78.8-2.07 0-2.86zM5.41 20L4 18.59l7.72-7.72 1.47 1.35L5.41 20z\"/>\n",
              "  </svg>\n",
              "      </button>\n",
              "      \n",
              "  <style>\n",
              "    .colab-df-container {\n",
              "      display:flex;\n",
              "      flex-wrap:wrap;\n",
              "      gap: 12px;\n",
              "    }\n",
              "\n",
              "    .colab-df-convert {\n",
              "      background-color: #E8F0FE;\n",
              "      border: none;\n",
              "      border-radius: 50%;\n",
              "      cursor: pointer;\n",
              "      display: none;\n",
              "      fill: #1967D2;\n",
              "      height: 32px;\n",
              "      padding: 0 0 0 0;\n",
              "      width: 32px;\n",
              "    }\n",
              "\n",
              "    .colab-df-convert:hover {\n",
              "      background-color: #E2EBFA;\n",
              "      box-shadow: 0px 1px 2px rgba(60, 64, 67, 0.3), 0px 1px 3px 1px rgba(60, 64, 67, 0.15);\n",
              "      fill: #174EA6;\n",
              "    }\n",
              "\n",
              "    [theme=dark] .colab-df-convert {\n",
              "      background-color: #3B4455;\n",
              "      fill: #D2E3FC;\n",
              "    }\n",
              "\n",
              "    [theme=dark] .colab-df-convert:hover {\n",
              "      background-color: #434B5C;\n",
              "      box-shadow: 0px 1px 3px 1px rgba(0, 0, 0, 0.15);\n",
              "      filter: drop-shadow(0px 1px 2px rgba(0, 0, 0, 0.3));\n",
              "      fill: #FFFFFF;\n",
              "    }\n",
              "  </style>\n",
              "\n",
              "      <script>\n",
              "        const buttonEl =\n",
              "          document.querySelector('#df-422df3be-edf0-4666-8ca6-79f47f440ae2 button.colab-df-convert');\n",
              "        buttonEl.style.display =\n",
              "          google.colab.kernel.accessAllowed ? 'block' : 'none';\n",
              "\n",
              "        async function convertToInteractive(key) {\n",
              "          const element = document.querySelector('#df-422df3be-edf0-4666-8ca6-79f47f440ae2');\n",
              "          const dataTable =\n",
              "            await google.colab.kernel.invokeFunction('convertToInteractive',\n",
              "                                                     [key], {});\n",
              "          if (!dataTable) return;\n",
              "\n",
              "          const docLinkHtml = 'Like what you see? Visit the ' +\n",
              "            '<a target=\"_blank\" href=https://colab.research.google.com/notebooks/data_table.ipynb>data table notebook</a>'\n",
              "            + ' to learn more about interactive tables.';\n",
              "          element.innerHTML = '';\n",
              "          dataTable['output_type'] = 'display_data';\n",
              "          await google.colab.output.renderOutput(dataTable, element);\n",
              "          const docLink = document.createElement('div');\n",
              "          docLink.innerHTML = docLinkHtml;\n",
              "          element.appendChild(docLink);\n",
              "        }\n",
              "      </script>\n",
              "    </div>\n",
              "  </div>\n",
              "  "
            ]
          },
          "metadata": {},
          "execution_count": 24
        }
      ]
    },
    {
      "cell_type": "code",
      "source": [
        "# get the segmentations images\n",
        "seg_files = seg_df.reset_index()\n",
        "seg_files = seg_files[\"segmentations\"]\n",
        "seg_files"
      ],
      "metadata": {
        "colab": {
          "base_uri": "https://localhost:8080/"
        },
        "id": "c6Nz-Kz43388",
        "outputId": "635bed34-7b5a-4ea2-ed4d-ae8794d85955"
      },
      "execution_count": null,
      "outputs": [
        {
          "output_type": "execute_result",
          "data": {
            "text/plain": [
              "0     1.2.826.0.1.3680043.10633.nii\n",
              "1     1.2.826.0.1.3680043.10921.nii\n",
              "2     1.2.826.0.1.3680043.11827.nii\n",
              "3     1.2.826.0.1.3680043.11988.nii\n",
              "4     1.2.826.0.1.3680043.12281.nii\n",
              "                  ...              \n",
              "82     1.2.826.0.1.3680043.8330.nii\n",
              "83     1.2.826.0.1.3680043.8574.nii\n",
              "84     1.2.826.0.1.3680043.8884.nii\n",
              "85     1.2.826.0.1.3680043.8744.nii\n",
              "86     1.2.826.0.1.3680043.9926.nii\n",
              "Name: segmentations, Length: 87, dtype: object"
            ]
          },
          "metadata": {},
          "execution_count": 25
        }
      ]
    },
    {
      "cell_type": "code",
      "source": [
        "# loop through all the seg images, load them and read them\n",
        "all_segs = []\n",
        "for i in range(len(seg_files)):\n",
        "    image_path: str = f\"{segmentations_folder}{seg_files[i]}\"\n",
        "    if os.path.getsize(image_path) > 0:\n",
        "        image_obj: Nifti1Image = nib.load(image_path)\n",
        "        all_segs.append(image_obj)\n",
        "\n",
        "print(f'Type of the image {type(all_segs[1])}.')\n",
        "print(f'Lenght of list {len(all_segs)}.')"
      ],
      "metadata": {
        "id": "TGla6NSrt7ZC",
        "colab": {
          "base_uri": "https://localhost:8080/"
        },
        "outputId": "31eaf5a0-7d42-4a4c-ed0a-e77fd6261da5"
      },
      "execution_count": null,
      "outputs": [
        {
          "output_type": "stream",
          "name": "stdout",
          "text": [
            "Type of the image <class 'nibabel.nifti1.Nifti1Image'>.\n",
            "Lenght of list 70.\n"
          ]
        }
      ]
    },
    {
      "cell_type": "code",
      "source": [
        "# randomly select one of the images\n",
        "ind = np.random.randint(0, len(all_segs))\n",
        "all_segs[ind].shape"
      ],
      "metadata": {
        "colab": {
          "base_uri": "https://localhost:8080/"
        },
        "id": "OK-8ZnfHfQpn",
        "outputId": "16872dff-ce42-4b63-bb28-046478af5e8a"
      },
      "execution_count": null,
      "outputs": [
        {
          "output_type": "execute_result",
          "data": {
            "text/plain": [
              "(512, 512, 672)"
            ]
          },
          "metadata": {},
          "execution_count": 7
        }
      ]
    },
    {
      "cell_type": "code",
      "source": [
        "image_data: np.memmap = all_segs[ind].get_fdata()\n",
        "type(image_data)"
      ],
      "metadata": {
        "id": "6SRb_NIEt7kk",
        "colab": {
          "base_uri": "https://localhost:8080/"
        },
        "outputId": "3dffe43f-39d4-4a57-dc84-51f743f31c55"
      },
      "execution_count": null,
      "outputs": [
        {
          "output_type": "execute_result",
          "data": {
            "text/plain": [
              "numpy.memmap"
            ]
          },
          "metadata": {},
          "execution_count": 8
        }
      ]
    },
    {
      "cell_type": "code",
      "source": [
        "height, width, depth = image_data.shape\n",
        "\n",
        "print(f'The image object has the following dimensions:\\nheight={height}\\nwidth={width}\\ndepth={depth}.')"
      ],
      "metadata": {
        "colab": {
          "base_uri": "https://localhost:8080/"
        },
        "id": "B-MKbUv_0Ho4",
        "outputId": "215ff7e3-fe30-4073-facc-3915595fe42a"
      },
      "execution_count": null,
      "outputs": [
        {
          "output_type": "stream",
          "name": "stdout",
          "text": [
            "The image object has the following dimensions:\n",
            "height=512\n",
            "width=512\n",
            "depth=672.\n"
          ]
        }
      ]
    },
    {
      "cell_type": "code",
      "source": [
        "from typing import Union\n",
        "def show_3d_image_slice(\n",
        "    image_data: Union[np.array, np.memmap],\n",
        "    slice: int\n",
        "  ) -> None:\n",
        "  \"\"\"\n",
        "  Displays the given slice of a 3D image\n",
        "  :param image_data: The 3D image data to display\n",
        "  :param slice: The given slice to show\n",
        "  \"\"\"\n",
        "  plt.imshow(image_data[:, :, slice], cmap=\"gray\")\n",
        "  plt.axis('off')\n",
        "  plt.show()"
      ],
      "metadata": {
        "id": "5tehUfVlzhhH"
      },
      "execution_count": null,
      "outputs": []
    },
    {
      "cell_type": "code",
      "source": [
        "# visualize one of the layers randomly picked\n",
        "i = np.random.randint(depth-1)\n",
        "from collections import Counter\n",
        "print(f\"Plotting layer {i}\")\n",
        "print(f\"Counts {np.unique(image_data[:, :, i], return_counts=True)}\")\n",
        "\n",
        "show_3d_image_slice(\n",
        "    image_data=image_data,\n",
        "    slice=i\n",
        ")"
      ],
      "metadata": {
        "colab": {
          "base_uri": "https://localhost:8080/",
          "height": 282
        },
        "id": "hTRicBD40HsF",
        "outputId": "9004df33-41ab-4261-cfe3-b09ccc46f9a6"
      },
      "execution_count": null,
      "outputs": [
        {
          "output_type": "stream",
          "name": "stdout",
          "text": [
            "Plotting layer 424\n",
            "Counts (array([0., 4.]), array([253916,   8228]))\n"
          ]
        },
        {
          "output_type": "display_data",
          "data": {
            "text/plain": [
              "<Figure size 432x288 with 1 Axes>"
            ],
            "image/png": "[encoded data removed]"
          },
          "metadata": {
            "needs_background": "light"
          }
        }
      ]
    },
    {
      "cell_type": "code",
      "source": [
        "# labels from the masking of segmentation dataset\n",
        "segmented_labels: dict = {\n",
        "  \"C1\": 1,\n",
        "  \"C2\": 2,\n",
        "  \"C3\": 3,\n",
        "  \"C4\": 4,\n",
        "  \"C5\": 5,\n",
        "  \"C6\": 6,\n",
        "  \"C7\": 7,\n",
        "  \"T1\": 8,\n",
        "  \"T2\": 9,\n",
        "  \"T3\": 10,\n",
        "  \"T4\": 11,\n",
        "  \"T5\": 12,\n",
        "  \"T6\": 13,\n",
        "  \"T7\": 14,\n",
        "  \"T8\": 15,\n",
        "  \"T9\": 16,\n",
        "  \"T10\": 17,\n",
        "  \"T11\": 18,\n",
        "  \"T12\": 19,\n",
        "  \"ELSE\": 0\n",
        "}\n",
        "\n",
        "np.unique(image_data)"
      ],
      "metadata": {
        "colab": {
          "base_uri": "https://localhost:8080/"
        },
        "id": "ttsZrbFf0Hvd",
        "outputId": "e511ba78-3c01-4fca-b2b4-10ae9034d452"
      },
      "execution_count": null,
      "outputs": [
        {
          "output_type": "execute_result",
          "data": {
            "text/plain": [
              "array([ 0.,  1.,  2.,  3.,  4.,  5.,  6.,  7.,  8.,  9., 10., 11., 12.])"
            ]
          },
          "metadata": {},
          "execution_count": 11
        }
      ]
    },
    {
      "cell_type": "code",
      "source": [
        "# have a neck level view by selecting layer we are sure has side view\n",
        "layer = 300\n",
        "\n",
        "fig, ax = plt.subplots(nrows=1, ncols=7, figsize=(20,15))\n",
        "for i in range(7):\n",
        "  img_label_str = list(segmented_labels.keys())[i]\n",
        "  img = image_data[layer, :, :]\n",
        "  mask = np.where(img == segmented_labels[img_label_str], 255, 0)\n",
        "  ax[i].imshow(mask)\n",
        "  ax[i].imshow(image_data[layer, :, :]>0, cmap=\"gray\", alpha=0.5)\n",
        "  ax[i].set_title(f\"Layer {layer} for {img_label_str}\", fontsize=20)\n",
        "  ax[i].axis('off')\n",
        "plt.tight_layout()\n",
        "plt.show()"
      ],
      "metadata": {
        "colab": {
          "base_uri": "https://localhost:8080/",
          "height": 152
        },
        "id": "FpbiSsAI0HyH",
        "outputId": "03b06045-c20a-4c78-e12d-e145dabb4cbf"
      },
      "execution_count": null,
      "outputs": [
        {
          "output_type": "display_data",
          "data": {
            "text/plain": [
              "<Figure size 1440x1080 with 7 Axes>"
            ],
            "image/png": "[encoded data removed]"
          },
          "metadata": {
            "needs_background": "light"
          }
        }
      ]
    },
    {
      "cell_type": "markdown",
      "source": [
        "### Load the jpeg files"
      ],
      "metadata": {
        "id": "dcTl0rsMQYLl"
      }
    },
    {
      "cell_type": "code",
      "source": [
        "# get the jpeg image files from the df\n",
        "train_files = seg_df.reset_index()\n",
        "train_files = train_files[\"training\"]\n",
        "train_files"
      ],
      "metadata": {
        "colab": {
          "base_uri": "https://localhost:8080/"
        },
        "id": "Svt12ns1RSvp",
        "outputId": "eb4b4681-d447-448b-d316-689dda50219d"
      },
      "execution_count": null,
      "outputs": [
        {
          "output_type": "execute_result",
          "data": {
            "text/plain": [
              "0     /content/gdrive/MyDrive/Tutorial_Session/hadav...\n",
              "1     /content/gdrive/MyDrive/Tutorial_Session/hadav...\n",
              "2     /content/gdrive/MyDrive/Tutorial_Session/hadav...\n",
              "3     /content/gdrive/MyDrive/Tutorial_Session/hadav...\n",
              "4     /content/gdrive/MyDrive/Tutorial_Session/hadav...\n",
              "                            ...                        \n",
              "82    /content/gdrive/MyDrive/Tutorial_Session/hadav...\n",
              "83    /content/gdrive/MyDrive/Tutorial_Session/hadav...\n",
              "84    /content/gdrive/MyDrive/Tutorial_Session/hadav...\n",
              "85    /content/gdrive/MyDrive/Tutorial_Session/hadav...\n",
              "86    /content/gdrive/MyDrive/Tutorial_Session/hadav...\n",
              "Name: training, Length: 87, dtype: object"
            ]
          },
          "metadata": {},
          "execution_count": 26
        }
      ]
    },
    {
      "cell_type": "code",
      "source": [
        "def read_training_study(path: str, ) -> np.array:\n",
        "  \"\"\"\n",
        "  Reads a particular folder of a given study\n",
        "  and returns a 3D array of the medical images\n",
        "  stacked on top of each other.\n",
        "\n",
        "  :param path: The path to the study folder\n",
        "  \"\"\"\n",
        "  study_images: list = []\n",
        "  images: list = sorted(\n",
        "      os.listdir(path), \n",
        "      key=lambda x: int(x.split('.')[0])  # Sort the image names as numbers\n",
        "  )\n",
        "\n",
        "  for image in images:\n",
        "    study_images.append(\n",
        "        mpimg.imread(os.path.join(path, image))\n",
        "    )\n",
        "  return np.array(study_images).T"
      ],
      "metadata": {
        "id": "K_Mwe7csvJo8"
      },
      "execution_count": null,
      "outputs": []
    },
    {
      "cell_type": "code",
      "source": [
        "train_study_data = read_training_study(\n",
        "    path=train_files[0]\n",
        ")\n",
        "train_study_data.shape"
      ],
      "metadata": {
        "colab": {
          "base_uri": "https://localhost:8080/"
        },
        "id": "4ejam1Uvyz7i",
        "outputId": "d77ea79c-33b0-4fbf-82cf-317bbcb7e6bf"
      },
      "execution_count": null,
      "outputs": [
        {
          "output_type": "execute_result",
          "data": {
            "text/plain": [
              "(512, 512, 429)"
            ]
          },
          "metadata": {},
          "execution_count": 60
        }
      ]
    },
    {
      "cell_type": "code",
      "source": [
        "show_3d_image_slice(\n",
        "    image_data=train_study_data,\n",
        "    slice=250\n",
        ")"
      ],
      "metadata": {
        "colab": {
          "base_uri": "https://localhost:8080/",
          "height": 248
        },
        "id": "WuS0NtfQzMIU",
        "outputId": "e4536cde-d027-4011-929e-74986b4ed2e0"
      },
      "execution_count": null,
      "outputs": [
        {
          "output_type": "display_data",
          "data": {
            "text/plain": [
              "<Figure size 432x288 with 1 Axes>"
            ],
            "image/png": "[encoded data removed]"
          },
          "metadata": {
            "needs_background": "light"
          }
        }
      ]
    },
    {
      "cell_type": "code",
      "source": [
        "def read_verteb(path):\n",
        "    '''Function to load the images from the folder\n",
        "        path: which folder the images are in\n",
        "    '''\n",
        "    #read the files from the path \n",
        "    files = os.scandir(path)\n",
        "    files = [i.name for i in files]\n",
        "    return files\n",
        "\n",
        "# read the same file as the one that was read in the segementations\n",
        "files = read_verteb(f\"{training_folder}{train_files[ind]}\")\n",
        "print(f\"Type of file containing images {type(files)}\")\n",
        "print(f\"Number of image files in folder is {len(files)}\")\n",
        "print(f\"name of current folder {training_folder}{train_files[ind]}\")"
      ],
      "metadata": {
        "colab": {
          "base_uri": "https://localhost:8080/"
        },
        "id": "lrWQr2jyQ6Ql",
        "outputId": "6ced49ce-b25b-4cb1-c8f0-4d694dd88a6f"
      },
      "execution_count": null,
      "outputs": [
        {
          "output_type": "stream",
          "name": "stdout",
          "text": [
            "Type of file containing images <class 'list'>\n",
            "Number of image files in folder is 238\n",
            "name of current folder /content/gdrive/MyDrive/Tutorial_Session/hadavands_minions/train_images/1.2.826.0.1.3680043.30640\n"
          ]
        }
      ]
    },
    {
      "cell_type": "code",
      "source": [
        "# def img_to_arr(imgs, path):\n",
        "#     #list to store images\n",
        "#     # flatt[[ened = []\n",
        "#     final =[]\n",
        "#     # for each image combine the name with path \n",
        "#     for img in imgs:\n",
        "#         # open it as a read file in binary mode\n",
        "#         with open(path+img, 'r+b') as f:\n",
        "#             # open it as an image\n",
        "#             with Image.open(f) as image:\n",
        "#                 # resize the image to be more manageable\n",
        "#                 #cover = resizeimage.resize_cover(image, [512, 512])\n",
        "#                 # cover = image.resize((512,512))\n",
        "#                 # flattened.append((np.array(cover).flatten(), 0))\n",
        "#                 final.append(image.resize((512, 512)))\n",
        "                \n",
        "                \n",
        "#     # Flatten it once more\n",
        "#     final = np.asarray(final)\n",
        "    \n",
        "#     return final\n",
        "# vertebs = img_to_arr(files, f\"{training_folder}{train_files[ind]}/\")"
      ],
      "metadata": {
        "colab": {
          "base_uri": "https://localhost:8080/"
        },
        "id": "07gaA8GyYY8q",
        "outputId": "02762f45-6e35-4216-cc07-e7aa2c1595ea"
      },
      "execution_count": null,
      "outputs": [
        {
          "output_type": "stream",
          "name": "stderr",
          "text": [
            "/usr/local/lib/python3.7/dist-packages/ipykernel_launcher.py:19: FutureWarning: The input object of type 'Image' is an array-like implementing one of the corresponding protocols (`__array__`, `__array_interface__` or `__array_struct__`); but not a sequence (or 0-D). In the future, this object will be coerced as if it was first converted using `np.array(obj)`. To retain the old behaviour, you have to either modify the type 'Image', or assign to an empty array created with `np.empty(correct_shape, dtype=object)`.\n",
            "/usr/local/lib/python3.7/dist-packages/ipykernel_launcher.py:19: VisibleDeprecationWarning: Creating an ndarray from ragged nested sequences (which is a list-or-tuple of lists-or-tuples-or ndarrays with different lengths or shapes) is deprecated. If you meant to do this, you must specify 'dtype=object' when creating the ndarray.\n"
          ]
        }
      ]
    },
    {
      "cell_type": "code",
      "source": [
        "# plt.imshow(Image.fromarray(vertebs[files.index(\"220.jpg\")]), cmap=\"gray\")\n",
        "# plt.axis('off')\n",
        "# plt.show()"
      ],
      "metadata": {
        "id": "24JJixqMY6Qa"
      },
      "execution_count": null,
      "outputs": []
    },
    {
      "cell_type": "code",
      "source": [
        "from collections import Counter\n",
        "print(f\"Plotting layer {i}\")\n",
        "print(f\"Counts {np.unique(image_data[:, :, i], return_counts=True)}\")\n",
        "\n",
        "plt.imshow(np.rot90(image_data[:, :, 115]), cmap='gray')\n",
        "plt.axis('off')\n",
        "plt.show()"
      ],
      "metadata": {
        "id": "lP781nEB4spu"
      },
      "execution_count": null,
      "outputs": []
    },
    {
      "cell_type": "markdown",
      "source": [],
      "metadata": {
        "id": "W3tEctXfY26G"
      }
    },
    {
      "cell_type": "code",
      "source": [
        "print(f'Type of the image {type(files[1])}.')\n",
        "print(f'Lenght of list {len(files)}.')"
      ],
      "metadata": {
        "colab": {
          "base_uri": "https://localhost:8080/"
        },
        "id": "1RMWxR7tQXcs",
        "outputId": "3c0dd149-f48e-4c3c-a00f-075518998fe1"
      },
      "execution_count": null,
      "outputs": [
        {
          "output_type": "stream",
          "name": "stdout",
          "text": [
            "Type of the image <class 'str'>.\n",
            "Lenght of list 238.\n"
          ]
        }
      ]
    },
    {
      "cell_type": "markdown",
      "source": [
        "## Model Building and Training"
      ],
      "metadata": {
        "id": "bECDy-ElPmbN"
      }
    },
    {
      "cell_type": "code",
      "source": [
        "import tensorflow as tf\n",
        "from tensorflow import keras\n",
        "from tensorflow.keras import layers\n",
        "import tensorflow_datasets as tfds\n",
        "import matplotlib.pyplot as plt\n",
        "import numpy as np"
      ],
      "metadata": {
        "id": "ZK1OmFe6Plwa"
      },
      "execution_count": null,
      "outputs": []
    },
    {
      "cell_type": "code",
      "source": [
        "def resize(input_image):\n",
        "    '''Function to resize images and mask to 128*128'''\n",
        "    input_image = tf.image.resize(input_image, (128, 128), method=\"nearest\")\n",
        "    # input_mask = tf.image.resize(input_mask, (128, 128), method=\"nearest\")\n",
        "    return input_image\n",
        "\n",
        "# def resize(input_image, input_mask):\n",
        "#     '''Function to resize images and mask to 128*128'''\n",
        "#     # input_image = tf.image.resize(input_image, (128, 128), method=\"nearest\")\n",
        "#     input_mask = tf.image.resize(input_mask, (128, 128), method=\"nearest\")\n",
        "#     return input_image, input_mask"
      ],
      "metadata": {
        "id": "FrrDB88EPlz1"
      },
      "execution_count": null,
      "outputs": []
    },
    {
      "cell_type": "code",
      "source": [
        "def normalize(input_mask):\n",
        "    # input_image = tf.cast(input_image, tf.float32) / 255.0\n",
        "    input_mask -= 1\n",
        "  \n",
        "    return input_mask\n",
        "# def normalize(input_image, input_mask):\n",
        "#     # input_image = tf.cast(input_image, tf.float32) / 255.0\n",
        "#     input_mask -= 1\n",
        "  \n",
        "#     return input_image, input_mask"
      ],
      "metadata": {
        "id": "gg9gAz4qPl5p"
      },
      "execution_count": null,
      "outputs": []
    },
    {
      "cell_type": "code",
      "source": [
        "def load_image_train(input_image):\n",
        "    # input_image = datapoint[\"segmentation\"]\n",
        "    # input_mask = datapoint[\"training\"]\n",
        "    input_image = resize(input_image)\n",
        "    input_image = normalize(input_image)\n",
        "    return input_image\n",
        "# def load_image_train(input_image, input_mask):\n",
        "#     # input_image = datapoint[\"segmentation\"]\n",
        "#     # input_mask = datapoint[\"training\"]\n",
        "#     input_image, input_mask = resize(input_image, input_mask)\n",
        "#     input_image, input_mask = augment(input_image, input_mask)\n",
        "#     input_image, input_mask = normalize(input_image, input_mask)\n",
        "#     return input_image, input_mask"
      ],
      "metadata": {
        "id": "yNbPhS_UXDGl"
      },
      "execution_count": null,
      "outputs": []
    },
    {
      "cell_type": "code",
      "source": [
        "layer = 300\n",
        "# train = load_image_train(image_data[:, :, :], vertebs[files.index(\"251.jpg\"),0])\n",
        "# train = load_image_train(vertebs[files.index(\"251.jpg\"),0], vertebs[files.index(\"251.jpg\"),0])\n",
        "train = load_image_train(image_data[:, :, :])\n",
        "train"
      ],
      "metadata": {
        "colab": {
          "base_uri": "https://localhost:8080/"
        },
        "id": "n9aGlhU6XsfO",
        "outputId": "a2c11b04-a265-4728-a720-a23723c328b8"
      },
      "execution_count": null,
      "outputs": [
        {
          "output_type": "execute_result",
          "data": {
            "text/plain": [
              "<tf.Tensor: shape=(128, 128, 399), dtype=float64, numpy=\n",
              "array([[[-1., -1., -1., ..., -1., -1., -1.],\n",
              "        [-1., -1., -1., ..., -1., -1., -1.],\n",
              "        [-1., -1., -1., ..., -1., -1., -1.],\n",
              "        ...,\n",
              "        [-1., -1., -1., ..., -1., -1., -1.],\n",
              "        [-1., -1., -1., ..., -1., -1., -1.],\n",
              "        [-1., -1., -1., ..., -1., -1., -1.]],\n",
              "\n",
              "       [[-1., -1., -1., ..., -1., -1., -1.],\n",
              "        [-1., -1., -1., ..., -1., -1., -1.],\n",
              "        [-1., -1., -1., ..., -1., -1., -1.],\n",
              "        ...,\n",
              "        [-1., -1., -1., ..., -1., -1., -1.],\n",
              "        [-1., -1., -1., ..., -1., -1., -1.],\n",
              "        [-1., -1., -1., ..., -1., -1., -1.]],\n",
              "\n",
              "       [[-1., -1., -1., ..., -1., -1., -1.],\n",
              "        [-1., -1., -1., ..., -1., -1., -1.],\n",
              "        [-1., -1., -1., ..., -1., -1., -1.],\n",
              "        ...,\n",
              "        [-1., -1., -1., ..., -1., -1., -1.],\n",
              "        [-1., -1., -1., ..., -1., -1., -1.],\n",
              "        [-1., -1., -1., ..., -1., -1., -1.]],\n",
              "\n",
              "       ...,\n",
              "\n",
              "       [[-1., -1., -1., ..., -1., -1., -1.],\n",
              "        [-1., -1., -1., ..., -1., -1., -1.],\n",
              "        [-1., -1., -1., ..., -1., -1., -1.],\n",
              "        ...,\n",
              "        [-1., -1., -1., ..., -1., -1., -1.],\n",
              "        [-1., -1., -1., ..., -1., -1., -1.],\n",
              "        [-1., -1., -1., ..., -1., -1., -1.]],\n",
              "\n",
              "       [[-1., -1., -1., ..., -1., -1., -1.],\n",
              "        [-1., -1., -1., ..., -1., -1., -1.],\n",
              "        [-1., -1., -1., ..., -1., -1., -1.],\n",
              "        ...,\n",
              "        [-1., -1., -1., ..., -1., -1., -1.],\n",
              "        [-1., -1., -1., ..., -1., -1., -1.],\n",
              "        [-1., -1., -1., ..., -1., -1., -1.]],\n",
              "\n",
              "       [[-1., -1., -1., ..., -1., -1., -1.],\n",
              "        [-1., -1., -1., ..., -1., -1., -1.],\n",
              "        [-1., -1., -1., ..., -1., -1., -1.],\n",
              "        ...,\n",
              "        [-1., -1., -1., ..., -1., -1., -1.],\n",
              "        [-1., -1., -1., ..., -1., -1., -1.],\n",
              "        [-1., -1., -1., ..., -1., -1., -1.]]])>"
            ]
          },
          "metadata": {},
          "execution_count": 96
        }
      ]
    },
    {
      "cell_type": "code",
      "source": [
        "len(train)"
      ],
      "metadata": {
        "colab": {
          "base_uri": "https://localhost:8080/"
        },
        "id": "eQuxN6stZ1Go",
        "outputId": "da6d796b-262a-45d4-de58-e75ea40c26a5"
      },
      "execution_count": null,
      "outputs": [
        {
          "output_type": "execute_result",
          "data": {
            "text/plain": [
              "128"
            ]
          },
          "metadata": {},
          "execution_count": 92
        }
      ]
    },
    {
      "cell_type": "code",
      "source": [
        "BATCH_SIZE = 64\n",
        "BUFFER_SIZE = 1000"
      ],
      "metadata": {
        "id": "CDCpnv2bZBeb"
      },
      "execution_count": null,
      "outputs": []
    },
    {
      "cell_type": "code",
      "source": [
        "def display_imgs(display_list):\n",
        "    plt.figure(figsize=(10, 18))\n",
        "\n",
        "#   title = [\"Input Image\", \"True Mask\", \"Predicted Mask\"]\n",
        "    for i in range(len(display_list)):\n",
        "        plt.subplot(1, len(display_list), i+1)\n",
        "        # plt.title(title[i])\n",
        "        plt.imshow(display_list[i])\n",
        "        plt.axis(\"off\")\n",
        "    plt.show()"
      ],
      "metadata": {
        "id": "D4YrGKo4XxI3"
      },
      "execution_count": null,
      "outputs": []
    },
    {
      "cell_type": "code",
      "source": [
        "\n",
        "sample_batch = next(iter(train))\n",
        "# random_index = np.random.choice(sample_batch[0].shape[0])\n",
        "sample_image = sample_batch[0][random_index]\n",
        "display_imgs([train[: , :, random_index]])\n"
      ],
      "metadata": {
        "colab": {
          "base_uri": "https://localhost:8080/",
          "height": 589
        },
        "id": "ZToBoVGXWwC0",
        "outputId": "44fdd4ef-edd3-413e-ad1b-86e12d3037a3"
      },
      "execution_count": null,
      "outputs": [
        {
          "output_type": "display_data",
          "data": {
            "text/plain": [
              "<Figure size 720x1296 with 1 Axes>"
            ],
            "image/png": "[encoded data removed]"
          },
          "metadata": {
            "needs_background": "light"
          }
        }
      ]
    },
    {
      "cell_type": "code",
      "source": [],
      "metadata": {
        "id": "vkMkQD83jS2D"
      },
      "execution_count": null,
      "outputs": []
    },
    {
      "cell_type": "code",
      "source": [
        "sample_mask"
      ],
      "metadata": {
        "colab": {
          "base_uri": "https://localhost:8080/"
        },
        "id": "vQ9Ybo54WwF6",
        "outputId": "1fddd3fd-280a-4627-a982-11b869bfcedb"
      },
      "execution_count": null,
      "outputs": [
        {
          "output_type": "execute_result",
          "data": {
            "text/plain": [
              "<tf.Tensor: shape=(334,), dtype=float32, numpy=\n",
              "array([0., 0., 0., 0., 0., 0., 0., 0., 0., 0., 0., 0., 0., 0., 0., 0., 0.,\n",
              "       0., 0., 0., 0., 0., 0., 0., 0., 0., 0., 0., 0., 0., 0., 0., 0., 0.,\n",
              "       0., 0., 0., 0., 0., 0., 0., 0., 0., 0., 0., 0., 0., 0., 0., 0., 0.,\n",
              "       0., 0., 0., 0., 0., 0., 0., 0., 0., 0., 0., 0., 0., 0., 0., 0., 0.,\n",
              "       0., 0., 0., 0., 0., 0., 0., 0., 0., 0., 0., 0., 0., 0., 0., 0., 0.,\n",
              "       0., 0., 0., 0., 0., 0., 0., 0., 0., 0., 0., 0., 0., 0., 0., 0., 0.,\n",
              "       0., 0., 0., 0., 0., 0., 0., 0., 0., 0., 0., 0., 0., 0., 0., 0., 0.,\n",
              "       0., 0., 0., 0., 0., 0., 0., 0., 0., 0., 0., 0., 0., 0., 0., 0., 0.,\n",
              "       0., 0., 0., 0., 0., 0., 0., 0., 0., 0., 0., 0., 0., 0., 0., 0., 0.,\n",
              "       0., 0., 0., 0., 0., 0., 0., 0., 0., 0., 0., 0., 0., 0., 0., 0., 0.,\n",
              "       0., 0., 0., 0., 0., 0., 0., 0., 0., 0., 0., 0., 0., 0., 0., 0., 0.,\n",
              "       0., 0., 0., 0., 0., 0., 0., 0., 0., 0., 0., 0., 0., 0., 0., 0., 0.,\n",
              "       0., 0., 0., 0., 0., 0., 0., 0., 0., 0., 0., 0., 0., 0., 0., 0., 0.,\n",
              "       0., 0., 0., 0., 0., 0., 0., 0., 0., 0., 0., 0., 0., 0., 0., 0., 0.,\n",
              "       0., 0., 0., 0., 0., 0., 0., 0., 0., 0., 0., 0., 0., 0., 0., 0., 0.,\n",
              "       0., 0., 0., 0., 0., 0., 0., 0., 0., 0., 0., 0., 0., 0., 0., 0., 0.,\n",
              "       0., 0., 0., 0., 0., 0., 0., 0., 0., 0., 0., 0., 0., 0., 0., 0., 0.,\n",
              "       0., 0., 0., 0., 0., 0., 0., 0., 0., 0., 0., 0., 0., 0., 0., 0., 0.,\n",
              "       0., 0., 0., 0., 0., 0., 0., 0., 0., 0., 0., 0., 0., 0., 0., 0., 0.,\n",
              "       0., 0., 0., 0., 0., 0., 0., 0., 0., 0., 0.], dtype=float32)>"
            ]
          },
          "metadata": {},
          "execution_count": 43
        }
      ]
    },
    {
      "cell_type": "code",
      "source": [
        "# set the theme for EDA\n",
        "sns.set_theme(palette='muted')"
      ],
      "metadata": {
        "id": "ZvB8uugihERV"
      },
      "execution_count": null,
      "outputs": []
    },
    {
      "cell_type": "markdown",
      "source": [
        "## U-Net Building Blocks"
      ],
      "metadata": {
        "id": "y5PezxdWYTnV"
      }
    },
    {
      "cell_type": "code",
      "source": [
        "def double_conv_block(x, n_filters):\n",
        "\n",
        "    # Conv2D then ReLU activation\n",
        "    x = layers.Conv2D(n_filters, 3, padding = \"same\", activation = \"relu\", kernel_initializer = \"he_normal\")(x)\n",
        "    # Conv2D then ReLU activation\n",
        "    x = layers.Conv2D(n_filters, 3, padding = \"same\", activation = \"relu\", kernel_initializer = \"he_normal\")(x)\n",
        "\n",
        "    return x"
      ],
      "metadata": {
        "id": "7jwcG-RYY_-W"
      },
      "execution_count": null,
      "outputs": []
    },
    {
      "cell_type": "code",
      "source": [
        "def downsample_block(x, n_filters):\n",
        "    f = double_conv_block(x, n_filters)\n",
        "    p = layers.MaxPool2D(2)(f)\n",
        "    p = layers.Dropout(0.3)(p)\n",
        "\n",
        "    return f, p"
      ],
      "metadata": {
        "id": "wWKxikMtYYCy"
      },
      "execution_count": null,
      "outputs": []
    },
    {
      "cell_type": "code",
      "source": [
        "def upsample_block(x, conv_features, n_filters):\n",
        "    # upsample\n",
        "    x = layers.Conv2DTranspose(n_filters, 3, 2, padding=\"same\")(x)\n",
        "    # concatenate \n",
        "    x = layers.concatenate([x, conv_features])\n",
        "    # dropout\n",
        "    x = layers.Dropout(0.3)(x)\n",
        "    # Conv2D twice with ReLU activation\n",
        "    x = double_conv_block(x, n_filters)\n",
        "\n",
        "    return x"
      ],
      "metadata": {
        "id": "c0gQOjncYXdN"
      },
      "execution_count": null,
      "outputs": []
    },
    {
      "cell_type": "code",
      "source": [
        "def build_unet_model():\n",
        "\n",
        "    # inputs\n",
        "    inputs = layers.Input(shape=(128,128,3))\n",
        "\n",
        "    # encoder: contracting path - downsample\n",
        "    # 1 - downsample\n",
        "    f1, p1 = downsample_block(inputs, 64)\n",
        "    # 2 - downsample\n",
        "    f2, p2 = downsample_block(p1, 128)\n",
        "    # 3 - downsample\n",
        "    f3, p3 = downsample_block(p2, 256)\n",
        "    # 4 - downsample\n",
        "    f4, p4 = downsample_block(p3, 512)\n",
        "\n",
        "    # 5 - bottleneck\n",
        "    bottleneck = double_conv_block(p4, 1024)\n",
        "\n",
        "    # decoder: expanding path - upsample\n",
        "    # 6 - upsample\n",
        "    u6 = upsample_block(bottleneck, f4, 512)\n",
        "    # 7 - upsample\n",
        "    u7 = upsample_block(u6, f3, 256)\n",
        "    # 8 - upsample\n",
        "    u8 = upsample_block(u7, f2, 128)\n",
        "    # 9 - upsample\n",
        "    u9 = upsample_block(u8, f1, 64)\n",
        "\n",
        "    # outputs\n",
        "    outputs = layers.Conv2D(3, 1, padding=\"same\", activation = \"softmax\")(u9)\n",
        "\n",
        "    # unet model with Keras Functional API\n",
        "    unet_model = tf.keras.Model(inputs, outputs, name=\"U-Net\")\n",
        "\n",
        "    return unet_model"
      ],
      "metadata": {
        "id": "Dz9_oEMaYXgW"
      },
      "execution_count": null,
      "outputs": []
    },
    {
      "cell_type": "code",
      "source": [
        "unet_model = build_unet_model()"
      ],
      "metadata": {
        "id": "u3G1jIm9YXjG"
      },
      "execution_count": null,
      "outputs": []
    },
    {
      "cell_type": "code",
      "source": [
        "unet_model.summary()"
      ],
      "metadata": {
        "colab": {
          "base_uri": "https://localhost:8080/"
        },
        "id": "zR9-m_-MYXmU",
        "outputId": "57b857c6-2168-4bd9-863d-b43ca97dc0e4"
      },
      "execution_count": null,
      "outputs": [
        {
          "output_type": "stream",
          "name": "stdout",
          "text": [
            "Model: \"U-Net\"\n",
            "__________________________________________________________________________________________________\n",
            " Layer (type)                   Output Shape         Param #     Connected to                     \n",
            "==================================================================================================\n",
            " input_1 (InputLayer)           [(None, 128, 128, 3  0           []                               \n",
            "                                )]                                                                \n",
            "                                                                                                  \n",
            " conv2d (Conv2D)                (None, 128, 128, 64  1792        ['input_1[0][0]']                \n",
            "                                )                                                                 \n",
            "                                                                                                  \n",
            " conv2d_1 (Conv2D)              (None, 128, 128, 64  36928       ['conv2d[0][0]']                 \n",
            "                                )                                                                 \n",
            "                                                                                                  \n",
            " max_pooling2d (MaxPooling2D)   (None, 64, 64, 64)   0           ['conv2d_1[0][0]']               \n",
            "                                                                                                  \n",
            " dropout (Dropout)              (None, 64, 64, 64)   0           ['max_pooling2d[0][0]']          \n",
            "                                                                                                  \n",
            " conv2d_2 (Conv2D)              (None, 64, 64, 128)  73856       ['dropout[0][0]']                \n",
            "                                                                                                  \n",
            " conv2d_3 (Conv2D)              (None, 64, 64, 128)  147584      ['conv2d_2[0][0]']               \n",
            "                                                                                                  \n",
            " max_pooling2d_1 (MaxPooling2D)  (None, 32, 32, 128)  0          ['conv2d_3[0][0]']               \n",
            "                                                                                                  \n",
            " dropout_1 (Dropout)            (None, 32, 32, 128)  0           ['max_pooling2d_1[0][0]']        \n",
            "                                                                                                  \n",
            " conv2d_4 (Conv2D)              (None, 32, 32, 256)  295168      ['dropout_1[0][0]']              \n",
            "                                                                                                  \n",
            " conv2d_5 (Conv2D)              (None, 32, 32, 256)  590080      ['conv2d_4[0][0]']               \n",
            "                                                                                                  \n",
            " max_pooling2d_2 (MaxPooling2D)  (None, 16, 16, 256)  0          ['conv2d_5[0][0]']               \n",
            "                                                                                                  \n",
            " dropout_2 (Dropout)            (None, 16, 16, 256)  0           ['max_pooling2d_2[0][0]']        \n",
            "                                                                                                  \n",
            " conv2d_6 (Conv2D)              (None, 16, 16, 512)  1180160     ['dropout_2[0][0]']              \n",
            "                                                                                                  \n",
            " conv2d_7 (Conv2D)              (None, 16, 16, 512)  2359808     ['conv2d_6[0][0]']               \n",
            "                                                                                                  \n",
            " max_pooling2d_3 (MaxPooling2D)  (None, 8, 8, 512)   0           ['conv2d_7[0][0]']               \n",
            "                                                                                                  \n",
            " dropout_3 (Dropout)            (None, 8, 8, 512)    0           ['max_pooling2d_3[0][0]']        \n",
            "                                                                                                  \n",
            " conv2d_8 (Conv2D)              (None, 8, 8, 1024)   4719616     ['dropout_3[0][0]']              \n",
            "                                                                                                  \n",
            " conv2d_9 (Conv2D)              (None, 8, 8, 1024)   9438208     ['conv2d_8[0][0]']               \n",
            "                                                                                                  \n",
            " conv2d_transpose (Conv2DTransp  (None, 16, 16, 512)  4719104    ['conv2d_9[0][0]']               \n",
            " ose)                                                                                             \n",
            "                                                                                                  \n",
            " concatenate (Concatenate)      (None, 16, 16, 1024  0           ['conv2d_transpose[0][0]',       \n",
            "                                )                                 'conv2d_7[0][0]']               \n",
            "                                                                                                  \n",
            " dropout_4 (Dropout)            (None, 16, 16, 1024  0           ['concatenate[0][0]']            \n",
            "                                )                                                                 \n",
            "                                                                                                  \n",
            " conv2d_10 (Conv2D)             (None, 16, 16, 512)  4719104     ['dropout_4[0][0]']              \n",
            "                                                                                                  \n",
            " conv2d_11 (Conv2D)             (None, 16, 16, 512)  2359808     ['conv2d_10[0][0]']              \n",
            "                                                                                                  \n",
            " conv2d_transpose_1 (Conv2DTran  (None, 32, 32, 256)  1179904    ['conv2d_11[0][0]']              \n",
            " spose)                                                                                           \n",
            "                                                                                                  \n",
            " concatenate_1 (Concatenate)    (None, 32, 32, 512)  0           ['conv2d_transpose_1[0][0]',     \n",
            "                                                                  'conv2d_5[0][0]']               \n",
            "                                                                                                  \n",
            " dropout_5 (Dropout)            (None, 32, 32, 512)  0           ['concatenate_1[0][0]']          \n",
            "                                                                                                  \n",
            " conv2d_12 (Conv2D)             (None, 32, 32, 256)  1179904     ['dropout_5[0][0]']              \n",
            "                                                                                                  \n",
            " conv2d_13 (Conv2D)             (None, 32, 32, 256)  590080      ['conv2d_12[0][0]']              \n",
            "                                                                                                  \n",
            " conv2d_transpose_2 (Conv2DTran  (None, 64, 64, 128)  295040     ['conv2d_13[0][0]']              \n",
            " spose)                                                                                           \n",
            "                                                                                                  \n",
            " concatenate_2 (Concatenate)    (None, 64, 64, 256)  0           ['conv2d_transpose_2[0][0]',     \n",
            "                                                                  'conv2d_3[0][0]']               \n",
            "                                                                                                  \n",
            " dropout_6 (Dropout)            (None, 64, 64, 256)  0           ['concatenate_2[0][0]']          \n",
            "                                                                                                  \n",
            " conv2d_14 (Conv2D)             (None, 64, 64, 128)  295040      ['dropout_6[0][0]']              \n",
            "                                                                                                  \n",
            " conv2d_15 (Conv2D)             (None, 64, 64, 128)  147584      ['conv2d_14[0][0]']              \n",
            "                                                                                                  \n",
            " conv2d_transpose_3 (Conv2DTran  (None, 128, 128, 64  73792      ['conv2d_15[0][0]']              \n",
            " spose)                         )                                                                 \n",
            "                                                                                                  \n",
            " concatenate_3 (Concatenate)    (None, 128, 128, 12  0           ['conv2d_transpose_3[0][0]',     \n",
            "                                8)                                'conv2d_1[0][0]']               \n",
            "                                                                                                  \n",
            " dropout_7 (Dropout)            (None, 128, 128, 12  0           ['concatenate_3[0][0]']          \n",
            "                                8)                                                                \n",
            "                                                                                                  \n",
            " conv2d_16 (Conv2D)             (None, 128, 128, 64  73792       ['dropout_7[0][0]']              \n",
            "                                )                                                                 \n",
            "                                                                                                  \n",
            " conv2d_17 (Conv2D)             (None, 128, 128, 64  36928       ['conv2d_16[0][0]']              \n",
            "                                )                                                                 \n",
            "                                                                                                  \n",
            " conv2d_18 (Conv2D)             (None, 128, 128, 3)  195         ['conv2d_17[0][0]']              \n",
            "                                                                                                  \n",
            "==================================================================================================\n",
            "Total params: 34,513,475\n",
            "Trainable params: 34,513,475\n",
            "Non-trainable params: 0\n",
            "__________________________________________________________________________________________________\n"
          ]
        }
      ]
    },
    {
      "cell_type": "code",
      "source": [
        "# compile and train unet\n",
        "unet_model.compile(optimizer=tf.keras.optimizers.Adam(),\n",
        "                   loss=\"sparse_categorical_crossentropy\",\n",
        "                   metrics=\"accuracy\")"
      ],
      "metadata": {
        "id": "ahfgjyyWYXpH"
      },
      "execution_count": null,
      "outputs": []
    }
  ]
}